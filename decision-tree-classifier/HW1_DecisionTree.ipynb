{
 "cells": [
  {
   "cell_type": "markdown",
   "metadata": {
    "colab_type": "text",
    "id": "voHKcAfRfdNY"
   },
   "source": [
    "## Dataset\n",
    "**German Credit data**, where credit applicants are rated as Good or Bad, according to whether they have re-paid the credit or not. The dataset consists of:\n",
    "\n",
    "Train Data: (793 samples X 50 attributes)\n",
    "\n",
    "Test Data:  (207 samples X 50 attributes)\n",
    "\n",
    "## Task\n",
    "Given German Credit data, the task is to train a binary decision tree classifier that is able to predict whether a credit applicant will be rated as good or bad."
   ]
  },
  {
   "cell_type": "markdown",
   "metadata": {
    "colab_type": "text",
    "id": "MM-wwHR8qL0M"
   },
   "source": [
    "## 1) Load training dataset"
   ]
  },
  {
   "cell_type": "code",
   "execution_count": 1,
   "metadata": {
    "colab": {},
    "colab_type": "code",
    "id": "Iz3iMpjVfa5I"
   },
   "outputs": [],
   "source": [
    "# Load the Pandas libraries with alias 'pd' \n",
    "import pandas as pd \n",
    "\n",
    "\n",
    "# Read data from file 'credit-german-train_num.csv' using read_csv() function\n",
    "germanCreditTrain = pd.read_csv(\"credit-german-train_num.csv\")"
   ]
  },
  {
   "cell_type": "markdown",
   "metadata": {
    "colab_type": "text",
    "id": "8NdW2ItjHLxJ"
   },
   "source": [
    "## 2) Understanding the dataset\n",
    "\n",
    "There are a lot of functions that can be used to know more about this dataset"
   ]
  },
  {
   "cell_type": "code",
   "execution_count": 2,
   "metadata": {
    "colab": {},
    "colab_type": "code",
    "id": "CA_AjGQasjvS"
   },
   "outputs": [
    {
     "name": "stdout",
     "output_type": "stream",
     "text": [
      "Data Dimensionality: \n",
      "2\n",
      "\n",
      "\n",
      "\n",
      "Data Shape: \n",
      "(793, 50)\n",
      "\n",
      "\n",
      "\n",
      "Attribute Names: \n",
      "id                                               int64\n",
      "duration                                         int64\n",
      "credit_amount                                    int64\n",
      "installment_commitment                           int64\n",
      "residence_since                                  int64\n",
      "age                                              int64\n",
      "existing_credits                                 int64\n",
      "num_dependents                                   int64\n",
      "label                                            int64\n",
      "f_worker                                         int64\n",
      "checking_status_<0                               int64\n",
      "checking_status_>=200                            int64\n",
      "checking_status_no checking                      int64\n",
      "credit_history_critical/other existing credit    int64\n",
      "credit_history_delayed previously                int64\n",
      "credit_history_existing paid                     int64\n",
      "credit_history_no credits/all paid               int64\n",
      "purpose_domestic appliance                       int64\n",
      "purpose_education                                int64\n",
      "purpose_furniture/equipment                      int64\n",
      "purpose_new car                                  int64\n",
      "purpose_other                                    int64\n",
      "purpose_radio/tv                                 int64\n",
      "purpose_repairs                                  int64\n",
      "purpose_retraining                               int64\n",
      "purpose_used car                                 int64\n",
      "savings_status_500<=X<1000                       int64\n",
      "savings_status_<100                              int64\n",
      "savings_status_>=1000                            int64\n",
      "savings_status_no known savings                  int64\n",
      "employment_4<=X<7                                int64\n",
      "employment_<1                                    int64\n",
      "employment_>=7                                   int64\n",
      "employment_unemployed                            int64\n",
      "personal_status_male div/sep                     int64\n",
      "personal_status_male mar/wid                     int64\n",
      "personal_status_male single                      int64\n",
      "other_parties_guarantor                          int64\n",
      "other_parties_none                               int64\n",
      "property_magnitude_life insurance                int64\n",
      "property_magnitude_no known property             int64\n",
      "property_magnitude_real estate                   int64\n",
      "other_payment_plans_none                         int64\n",
      "other_payment_plans_stores                       int64\n",
      "housing_own                                      int64\n",
      "housing_rent                                     int64\n",
      "job_skilled                                      int64\n",
      "job_unemp/unskilled non res                      int64\n",
      "job_unskilled resident                           int64\n",
      "own_telephone_yes                                int64\n",
      "dtype: object\n",
      "\n",
      "\n",
      "\n",
      "Head of Data: \n",
      "   id  duration  credit_amount  installment_commitment  residence_since  age  \\\n",
      "0   1         6           1169                       4                4   67   \n",
      "1   2        48           5951                       2                2   22   \n",
      "2   3        12           2096                       2                3   49   \n",
      "3   4        42           7882                       2                4   45   \n",
      "4   5        24           4870                       3                4   53   \n",
      "\n",
      "   existing_credits  num_dependents  label  f_worker        ...          \\\n",
      "0                 2               1      1         1        ...           \n",
      "1                 1               1      0         1        ...           \n",
      "2                 1               2      1         1        ...           \n",
      "3                 1               2      1         1        ...           \n",
      "4                 2               2      0         1        ...           \n",
      "\n",
      "   property_magnitude_no known property  property_magnitude_real estate  \\\n",
      "0                                     0                               1   \n",
      "1                                     0                               1   \n",
      "2                                     0                               1   \n",
      "3                                     0                               0   \n",
      "4                                     1                               0   \n",
      "\n",
      "   other_payment_plans_none  other_payment_plans_stores  housing_own  \\\n",
      "0                         1                           0            1   \n",
      "1                         1                           0            1   \n",
      "2                         1                           0            1   \n",
      "3                         1                           0            0   \n",
      "4                         1                           0            0   \n",
      "\n",
      "   housing_rent  job_skilled  job_unemp/unskilled non res  \\\n",
      "0             0            1                            0   \n",
      "1             0            1                            0   \n",
      "2             0            0                            0   \n",
      "3             0            1                            0   \n",
      "4             0            1                            0   \n",
      "\n",
      "   job_unskilled resident  own_telephone_yes  \n",
      "0                       0                  1  \n",
      "1                       0                  0  \n",
      "2                       1                  0  \n",
      "3                       0                  0  \n",
      "4                       0                  0  \n",
      "\n",
      "[5 rows x 50 columns]\n",
      "\n",
      "\n",
      "\n"
     ]
    }
   ],
   "source": [
    "# print dimensions\n",
    "print('Data Dimensionality: ')\n",
    "print(germanCreditTrain.ndim)\n",
    "print('\\n\\n');\n",
    "\n",
    "# print shape\n",
    "print('Data Shape: ')\n",
    "print(germanCreditTrain.shape)\n",
    "print('\\n\\n');\n",
    "\n",
    "# print attribute names\n",
    "print('Attribute Names: ')\n",
    "print(germanCreditTrain.dtypes)\n",
    "print('\\n\\n');\n",
    "\n",
    "\n",
    "# print first 5 rows in your dataset\n",
    "print('Head of Data: ')\n",
    "print(germanCreditTrain.head(5))\n",
    "print('\\n\\n');\n",
    "\n"
   ]
  },
  {
   "cell_type": "markdown",
   "metadata": {
    "colab_type": "text",
    "id": "Vop4rwZVxh9Z"
   },
   "source": [
    "## 4) Shuffle and Split training data to train (80%) and validation (20%) "
   ]
  },
  {
   "cell_type": "code",
   "execution_count": 3,
   "metadata": {
    "colab": {},
    "colab_type": "code",
    "id": "KEhk8R24xhdY"
   },
   "outputs": [],
   "source": [
    "from sklearn.utils import shuffle\n",
    "import math\n",
    "# Shuffle the training data\n",
    "\n",
    "ShuffledGermanCreditTrain = shuffle(germanCreditTrain)\n",
    "\n",
    "# Split \n",
    "\n",
    "# number of rows\n",
    "rowCount = ShuffledGermanCreditTrain.shape[0];\n",
    "splitFrom = math.floor(rowCount*0.8)\n",
    "\n",
    "#First 80%\n",
    "trainGermanCreditTrain = ShuffledGermanCreditTrain.iloc[:splitFrom]\n",
    "\n",
    "#Remaining 20%\n",
    "valGermanCreditTrain = ShuffledGermanCreditTrain.iloc[splitFrom:]\n",
    "\n"
   ]
  },
  {
   "cell_type": "markdown",
   "metadata": {
    "colab_type": "text",
    "id": "xR1oMsPu0AV_"
   },
   "source": [
    "## 5) Train DecisionTreeClassifier \n",
    "\n",
    "Train three decision trees with different values of \"min_samples_split\" which is the minimum number of samples required to split an internal node:\n",
    "\n",
    "min_samples_split = [default = 1, 3, 5]"
   ]
  },
  {
   "cell_type": "code",
   "execution_count": 4,
   "metadata": {
    "colab": {},
    "colab_type": "code",
    "id": "f6AjsppWz_er"
   },
   "outputs": [
    {
     "data": {
      "text/plain": [
       "DecisionTreeClassifier(class_weight=None, criterion='gini', max_depth=None,\n",
       "            max_features=None, max_leaf_nodes=None,\n",
       "            min_impurity_decrease=0.0, min_impurity_split=None,\n",
       "            min_samples_leaf=1, min_samples_split=5,\n",
       "            min_weight_fraction_leaf=0.0, presort=False, random_state=None,\n",
       "            splitter='best')"
      ]
     },
     "execution_count": 4,
     "metadata": {},
     "output_type": "execute_result"
    }
   ],
   "source": [
    "# To train Decision Tree you need two variables (1) attributes (2) labels\n",
    "\n",
    "# Attributes are our input\n",
    "# Labels are the output\n",
    "\n",
    "# Split your training data to \"attributes\" and \"labels\" \n",
    "\n",
    "\n",
    "# We are going to create a classifier that predicts \n",
    "# whether a credit applicant will be rated as good or bad.\n",
    "\n",
    "# And knowing \"credit_history_existing paid\" column is \n",
    "# determining whether they have re-paid the credit or not. \n",
    "# And that determines where credit applicants are \n",
    "# rated as Good or Bad.\n",
    "\n",
    "# column at index 15 is for credit_history_existing paid \n",
    " \n",
    "\n",
    "#attributes = ShuffledGermanCreditTrain.iloc[:,]\n",
    "#labels = ShuffledGermanCreditTrain.iloc[:,15]\n",
    "\n",
    "attributes = trainGermanCreditTrain.iloc[:,trainGermanCreditTrain.columns != 'credit_history_existing paid']\n",
    "labels = trainGermanCreditTrain.iloc[:,trainGermanCreditTrain.columns == 'credit_history_existing paid']\n",
    "\n",
    "\n",
    "# Train Decision tree classifiers\n",
    "from sklearn.tree import DecisionTreeClassifier\n",
    "\n",
    "tree2split = DecisionTreeClassifier(min_samples_split=2)\n",
    "tree3split = DecisionTreeClassifier(min_samples_split=3)\n",
    "tree5split = DecisionTreeClassifier(min_samples_split=5)\n",
    "\n",
    "#Create a decision tree classifier model using scikit-learn\n",
    "\n",
    "tree2split.fit(attributes, labels)\n",
    "tree3split.fit(attributes, labels)\n",
    "tree5split.fit(attributes, labels)\n",
    "\n"
   ]
  },
  {
   "cell_type": "markdown",
   "metadata": {
    "colab_type": "text",
    "id": "VKpywZNk1t8H"
   },
   "source": [
    "## 6) Testing your trained classifier on Validation set\n",
    "Testing **three** trained classifiers on the validation set and print the accuracy\n"
   ]
  },
  {
   "cell_type": "code",
   "execution_count": 5,
   "metadata": {
    "colab": {},
    "colab_type": "code",
    "id": "wy7UNut21hxd"
   },
   "outputs": [
    {
     "name": "stdout",
     "output_type": "stream",
     "text": [
      "The accuracy of your decision tree with 2 splits on validation data is: 95.59748427672956\n",
      "The accuracy of your decision tree with 3 splits on validation data is: 93.08176100628931\n",
      "The accuracy of your decision tree with 5 splits on validation data is: 92.45283018867924\n"
     ]
    }
   ],
   "source": [
    "# Spliting labels and attributes of validation data\n",
    "attributesVal = valGermanCreditTrain.iloc[:,valGermanCreditTrain.columns != 'credit_history_existing paid']\n",
    "labelsVal = valGermanCreditTrain.iloc[:,valGermanCreditTrain.columns == 'credit_history_existing paid']\n",
    "\n",
    "predictions2split = tree2split.predict(attributesVal)\n",
    "predictions3split = tree3split.predict(attributesVal)\n",
    "predictions5split = tree5split.predict(attributesVal)\n",
    "\n",
    "\n",
    "from sklearn.metrics import accuracy_score\n",
    "\n",
    "accuracy2split = 100.0 * accuracy_score(labelsVal, predictions2split)\n",
    "\n",
    "accuracy3split = 100.0 * accuracy_score(labelsVal, predictions3split)\n",
    "\n",
    "accuracy5split = 100.0 * accuracy_score(labelsVal, predictions5split)\n",
    "\n",
    "print(\"The accuracy of your decision tree with 2 splits on validation data is: \" + str(accuracy2split))\n",
    "print(\"The accuracy of your decision tree with 3 splits on validation data is: \" + str(accuracy3split))\n",
    "print(\"The accuracy of your decision tree with 5 splits on validation data is: \" + str(accuracy5split))"
   ]
  },
  {
   "cell_type": "markdown",
   "metadata": {
    "colab_type": "text",
    "id": "boqe46St1--f"
   },
   "source": [
    "## 7) Testing your trained classifier on Test set\n",
    "\n",
    "Predict the labels of testing data **using the best chosen model based on step 6** and report the accuracy "
   ]
  },
  {
   "cell_type": "code",
   "execution_count": 6,
   "metadata": {
    "colab": {},
    "colab_type": "code",
    "id": "IPLke8jyFGng"
   },
   "outputs": [
    {
     "name": "stdout",
     "output_type": "stream",
     "text": [
      "The accuracy of your decision tree with 2 splits on testing data is: 89.3719806763285\n"
     ]
    }
   ],
   "source": [
    "# Load test data\n",
    "germanCreditTest = pd.read_csv(\"credit-german-test_num.csv\")\n",
    "\n",
    "\n",
    "attributesTest = germanCreditTest.iloc[:,germanCreditTest.columns != 'credit_history_existing paid']\n",
    "labelsTest = germanCreditTest.iloc[:,germanCreditTest.columns == 'credit_history_existing paid']\n",
    "\n",
    "\n",
    "# Predict\n",
    "\n",
    "predictionsTest = tree2split.predict(attributesTest)\n",
    "\n",
    "accuracyTest = 100.0 * accuracy_score(labelsTest, predictionsTest)\n",
    "print(\"The accuracy of your decision tree with 2 splits on testing data is: \" + str(accuracyTest))\n"
   ]
  }
 ],
 "metadata": {
  "accelerator": "GPU",
  "colab": {
   "collapsed_sections": [],
   "name": "HW1_DecisionTree.ipynb",
   "provenance": [
    {
     "file_id": "1gorJcowuOZjs8Y8D3LfZrzmBemEDRzHp",
     "timestamp": 1538904650180
    }
   ],
   "version": "0.3.2"
  },
  "kernelspec": {
   "display_name": "Python 3",
   "language": "python",
   "name": "python3"
  },
  "language_info": {
   "codemirror_mode": {
    "name": "ipython",
    "version": 3
   },
   "file_extension": ".py",
   "mimetype": "text/x-python",
   "name": "python",
   "nbconvert_exporter": "python",
   "pygments_lexer": "ipython3",
   "version": "3.6.6"
  }
 },
 "nbformat": 4,
 "nbformat_minor": 1
}
