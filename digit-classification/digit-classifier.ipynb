{
 "cells": [
  {
   "cell_type": "markdown",
   "metadata": {
    "colab_type": "text",
    "id": "R35oIYpDbmU-"
   },
   "source": [
    "## Dataset\n",
    "**MNIST data** is a collection of 28x28 grayscale images; hence each pixel is a gray-level from 0-255.\n",
    "## Task\n",
    "You will consider digit classification on MNIST data, as a simple image understanding/machine learning\n",
    "problem that is widely studied. The aim is to reverse the learning so that you are first interested in the problem\n",
    "and thus will be more motivated to better learn about the possible approaches to the problem."
   ]
  },
  {
   "cell_type": "code",
   "execution_count": 0,
   "metadata": {
    "colab": {},
    "colab_type": "code",
    "id": "i8sBhmo778a7"
   },
   "outputs": [],
   "source": [
    "!pip install -q mlxtend"
   ]
  },
  {
   "cell_type": "markdown",
   "metadata": {
    "colab_type": "text",
    "id": "Eb5de4HkbmU_"
   },
   "source": [
    "### Importing Data from local"
   ]
  },
  {
   "cell_type": "code",
   "execution_count": 2,
   "metadata": {
    "colab": {
     "base_uri": "https://localhost:8080/",
     "height": 54
    },
    "colab_type": "code",
    "id": "gLTFSI6SbmVA",
    "outputId": "44e72f0c-f66a-49f7-ffff-f4a599c82043"
   },
   "outputs": [
    {
     "name": "stdout",
     "output_type": "stream",
     "text": [
      "Drive already mounted at /content/drive/; to attempt to forcibly remount, call drive.mount(\"/content/drive/\", force_remount=True).\n"
     ]
    }
   ],
   "source": [
    "from mlxtend.data import loadlocal_mnist\n",
    "import numpy as np\n",
    "import matplotlib.pyplot as plt\n",
    "import math\n",
    "from sklearn import tree\n",
    "from sklearn import metrics\n",
    "from sklearn.utils import shuffle\n",
    "from sklearn.model_selection import train_test_split\n",
    "from sklearn.neighbors import KNeighborsClassifier\n",
    "from sklearn.naive_bayes import GaussianNB\n",
    "from sklearn.metrics import classification_report\n",
    "\n",
    "#Imporating the Mnist Data that is downloaded from orginal source\n",
    "# i.e. http://yann.lecun.com/exdb/mnist/\n",
    "\n",
    "from google.colab import drive\n",
    "drive.mount('/content/drive/')\n",
    "\n",
    "# trainingImages, and trainingLabels\n",
    "xTrain, yTrain = loadlocal_mnist(\n",
    "        images_path='/content/drive/My Drive/Colab Notebooks/train-images-idx3-ubyte', \n",
    "        labels_path='/content/drive/My Drive/Colab Notebooks/train-labels-idx1-ubyte')\n",
    "\n",
    "# testImages, and testLabels \n",
    "xTest, yTest = loadlocal_mnist(\n",
    "        images_path='/content/drive/My Drive/Colab Notebooks/t10k-images-idx3-ubyte', \n",
    "        labels_path='/content/drive/My Drive/Colab Notebooks/t10k-labels-idx1-ubyte')\n"
   ]
  },
  {
   "cell_type": "code",
   "execution_count": 3,
   "metadata": {
    "colab": {
     "base_uri": "https://localhost:8080/",
     "height": 87
    },
    "colab_type": "code",
    "id": "kLkXpqS5bmVD",
    "outputId": "2179a16c-671e-4888-d97c-7401a4491d90",
    "scrolled": true
   },
   "outputs": [
    {
     "name": "stdout",
     "output_type": "stream",
     "text": [
      "xTrain initial shape:  (60000, 784)\n",
      "yTrain initial shape:  (60000,)\n",
      "xTest initial shape:   (10000, 784)\n",
      "yTest initial shape:   (10000,)\n"
     ]
    }
   ],
   "source": [
    "print(\"xTrain initial shape: \", xTrain.shape)\n",
    "print(\"yTrain initial shape: \", yTrain.shape)\n",
    "print(\"xTest initial shape:  \", xTest.shape)\n",
    "print(\"yTest initial shape:  \", yTest.shape)"
   ]
  },
  {
   "cell_type": "markdown",
   "metadata": {
    "colab_type": "text",
    "id": "9F_MW_jlbmVI"
   },
   "source": [
    "### Checking few examples from train data"
   ]
  },
  {
   "cell_type": "code",
   "execution_count": 4,
   "metadata": {
    "colab": {
     "base_uri": "https://localhost:8080/",
     "height": 362
    },
    "colab_type": "code",
    "id": "xAPw8Kb7bmVJ",
    "outputId": "b649cb41-0819-4b97-bb57-27559cdeecbe",
    "scrolled": true
   },
   "outputs": [
    {
     "data": {
      "image/png": "[encoded data removed]",
      "text/plain": [
       "<matplotlib.figure.Figure at 0x7f2cea6239b0>"
      ]
     },
     "metadata": {
      "tags": []
     },
     "output_type": "display_data"
    }
   ],
   "source": [
    "# inorder to view xTrain\n",
    "x_train = xTrain.reshape(60000, 28, 28)\n",
    "for i in range(9):\n",
    "    plt.subplot(3,3,i+1)\n",
    "    plt.imshow(xTrain[i].reshape([28,28]), cmap='gray', interpolation='none')\n",
    "    plt.title(\"Num: {}\".format(yTrain[i]))"
   ]
  },
  {
   "cell_type": "markdown",
   "metadata": {
    "colab_type": "text",
    "id": "SSZPZu7rbmVO"
   },
   "source": [
    "### Formating Training Data"
   ]
  },
  {
   "cell_type": "code",
   "execution_count": 0,
   "metadata": {
    "colab": {},
    "colab_type": "code",
    "id": "EYWA3mFQbmVP"
   },
   "outputs": [],
   "source": [
    "# take 15% of the training data and use that for validation\n",
    "# Taking first 15K as the to lower the calculation time\n",
    "(trainData, valData, trainLabels, valLabels) = train_test_split(xTrain[:15000], yTrain[:15000], test_size=0.15, random_state=84)"
   ]
  },
  {
   "cell_type": "markdown",
   "metadata": {
    "colab_type": "text",
    "id": "gFZtgPLVbmVT"
   },
   "source": [
    "### Creating Decision Tree Classifier"
   ]
  },
  {
   "cell_type": "markdown",
   "metadata": {
    "colab_type": "text",
    "id": "loaHAQHyeFQr"
   },
   "source": [
    "#### Deciding best min_samples_split"
   ]
  },
  {
   "cell_type": "code",
   "execution_count": 6,
   "metadata": {
    "colab": {
     "base_uri": "https://localhost:8080/",
     "height": 104
    },
    "colab_type": "code",
    "id": "auZMLsXx_cPv",
    "outputId": "8d90196f-03e2-4be0-8eb0-5ded57b48fcf"
   },
   "outputs": [
    {
     "name": "stdout",
     "output_type": "stream",
     "text": [
      "split=2, accuracy=81.16%\n",
      "split=4, accuracy=81.02%\n",
      "split=6, accuracy=79.96%\n",
      "split=8, accuracy=81.29%\n",
      "split=10, accuracy=81.07%\n"
     ]
    }
   ],
   "source": [
    "splitValues = range(2, 11, 2)\n",
    "leafValues = range(2, 21, 1)\n",
    "\n",
    "accuracyTreevalues = []\n",
    "\n",
    "for x in splitValues :\n",
    "    clf = tree.DecisionTreeClassifier(criterion=\"gini\", min_samples_split=x)\n",
    "    clf.fit(trainData, trainLabels)\n",
    "\n",
    "    # evaluate the model and print the accuracies list\n",
    "    score = clf.score(valData, valLabels)\n",
    "    print(\"split=%d, accuracy=%.2f%%\" % (x, score * 100))\n",
    "    accuracyTreevalues.append(score)"
   ]
  },
  {
   "cell_type": "code",
   "execution_count": 7,
   "metadata": {
    "colab": {
     "base_uri": "https://localhost:8080/",
     "height": 34
    },
    "colab_type": "code",
    "id": "72XSZAJCN0ok",
    "outputId": "1612db11-1313-46aa-8c4b-32ba5be9e213"
   },
   "outputs": [
    {
     "name": "stdout",
     "output_type": "stream",
     "text": [
      "split=8 achieved highest accuracy of 81.29% on validation data\n"
     ]
    }
   ],
   "source": [
    "# largest accuracy\n",
    "# np.argmax returns the indices of the maximum values along an axis\n",
    "i = np.argmax(accuracyTreevalues)\n",
    "print(\"split=%d achieved highest accuracy of %.2f%% on validation data\" % (splitValues[i], accuracyTreevalues[i] * 100))"
   ]
  },
  {
   "cell_type": "markdown",
   "metadata": {
    "colab_type": "text",
    "id": "9ubgXOpeeLaz"
   },
   "source": [
    "#### Deciding best min_samples_leaf"
   ]
  },
  {
   "cell_type": "code",
   "execution_count": 8,
   "metadata": {
    "colab": {
     "base_uri": "https://localhost:8080/",
     "height": 349
    },
    "colab_type": "code",
    "id": "1N_IKF7wd3h-",
    "outputId": "b5385fb3-ec8d-449f-ebb3-226d571b01dc"
   },
   "outputs": [
    {
     "name": "stdout",
     "output_type": "stream",
     "text": [
      "split=2, accuracy=80.67%\n",
      "split=3, accuracy=80.58%\n",
      "split=4, accuracy=81.24%\n",
      "split=5, accuracy=81.16%\n",
      "split=6, accuracy=81.16%\n",
      "split=7, accuracy=81.02%\n",
      "split=8, accuracy=80.84%\n",
      "split=9, accuracy=80.76%\n",
      "split=10, accuracy=81.16%\n",
      "split=11, accuracy=80.67%\n",
      "split=12, accuracy=80.22%\n",
      "split=13, accuracy=80.71%\n",
      "split=14, accuracy=80.58%\n",
      "split=15, accuracy=80.40%\n",
      "split=16, accuracy=80.40%\n",
      "split=17, accuracy=80.00%\n",
      "split=18, accuracy=79.96%\n",
      "split=19, accuracy=79.56%\n",
      "split=20, accuracy=79.11%\n"
     ]
    }
   ],
   "source": [
    "leafValues = range(2, 21, 1)\n",
    "\n",
    "accuracyLeafvalues = []\n",
    "\n",
    "for x in leafValues :\n",
    "    clf = tree.DecisionTreeClassifier(criterion=\"gini\", min_samples_split=splitValues[i], min_samples_leaf=x)\n",
    "    clf.fit(trainData, trainLabels)\n",
    "\n",
    "    # evaluate the model and print the accuracies list\n",
    "    score = clf.score(valData, valLabels)\n",
    "    print(\"leaf=%d, accuracy=%.2f%%\" % (x, score * 100))\n",
    "    accuracyLeafvalues.append(score)"
   ]
  },
  {
   "cell_type": "code",
   "execution_count": 9,
   "metadata": {
    "colab": {
     "base_uri": "https://localhost:8080/",
     "height": 34
    },
    "colab_type": "code",
    "id": "ljXAzBfleUb2",
    "outputId": "2a526153-f28e-4a26-c464-6907ae0b2aeb"
   },
   "outputs": [
    {
     "name": "stdout",
     "output_type": "stream",
     "text": [
      "split=5 achieved highest accuracy of 81.16% on validation data\n"
     ]
    }
   ],
   "source": [
    "# largest accuracy\n",
    "# np.argmax returns the indices of the maximum values along an axis\n",
    "o = np.argmax(accuracyTreevalues)\n",
    "print(\"split=%d achieved highest accuracy of %.2f%% on validation data\" % (leafValues[o], accuracyLeafvalues[o] * 100))"
   ]
  },
  {
   "cell_type": "markdown",
   "metadata": {
    "colab_type": "text",
    "id": "dnQBpPC7er-s"
   },
   "source": [
    "#### Trying with best performence parameters"
   ]
  },
  {
   "cell_type": "code",
   "execution_count": 10,
   "metadata": {
    "colab": {
     "base_uri": "https://localhost:8080/",
     "height": 122
    },
    "colab_type": "code",
    "id": "4X-Erlo1bmVT",
    "outputId": "665fad33-2f26-403e-f9d2-35fe52e9106d"
   },
   "outputs": [
    {
     "data": {
      "text/plain": [
       "DecisionTreeClassifier(class_weight=None, criterion='gini', max_depth=None,\n",
       "            max_features=None, max_leaf_nodes=None,\n",
       "            min_impurity_decrease=0.0, min_impurity_split=None,\n",
       "            min_samples_leaf=5, min_samples_split=8,\n",
       "            min_weight_fraction_leaf=0.0, presort=False, random_state=None,\n",
       "            splitter='best')"
      ]
     },
     "execution_count": 10,
     "metadata": {
      "tags": []
     },
     "output_type": "execute_result"
    }
   ],
   "source": [
    "clf = tree.DecisionTreeClassifier(criterion=\"gini\",min_samples_split=splitValues[i], min_samples_leaf=leafValues[o])\n",
    "clf.fit(trainData, trainLabels)"
   ]
  },
  {
   "cell_type": "code",
   "execution_count": 11,
   "metadata": {
    "colab": {
     "base_uri": "https://localhost:8080/",
     "height": 69
    },
    "colab_type": "code",
    "id": "3ihV7RhuFazb",
    "outputId": "0ffcc7cb-7bc2-435a-eb65-fdb4d73f89c5"
   },
   "outputs": [
    {
     "name": "stdout",
     "output_type": "stream",
     "text": [
      "The binary tree structure has 1297 nodes\n",
      "The min depth of the tree structure is 9\n",
      "Root Node: go to node 1 if pixel[:, 378] <= 128.5 else to node 684.\n"
     ]
    }
   ],
   "source": [
    "n_nodes = clf.tree_.node_count\n",
    "children_left = clf.tree_.children_left\n",
    "children_right = clf.tree_.children_right\n",
    "feature = clf.tree_.feature\n",
    "threshold = clf.tree_.threshold\n",
    "\n",
    "\n",
    "# The tree structure can be traversed to compute various properties such\n",
    "# as the depth of each node and whether or not it is a leaf.\n",
    "node_depth = np.zeros(shape=n_nodes, dtype=np.int64)\n",
    "is_leaves = np.zeros(shape=n_nodes, dtype=bool)\n",
    "stack = [(0, -1)]  # seed is the root node id and its parent depth\n",
    "while len(stack) > 0:\n",
    "    node_id, parent_depth = stack.pop()\n",
    "    node_depth[node_id] = parent_depth + 1\n",
    "\n",
    "    # If we have a test node\n",
    "    if (children_left[node_id] != children_right[node_id]):\n",
    "        stack.append((children_left[node_id], parent_depth + 1))\n",
    "        stack.append((children_right[node_id], parent_depth + 1))\n",
    "    else:\n",
    "        is_leaves[node_id] = True\n",
    "\n",
    "print(\"The binary tree structure has %s nodes\"\n",
    "      % n_nodes)\n",
    "\n",
    "nodeDepth = math.log((n_nodes - 1),2)-1\n",
    "\n",
    "print(\"The min depth of the tree structure is %s\"\n",
    "      % math.floor(nodeDepth))\n",
    "\n",
    "print(\"Root Node: go to node %s if pixel[:, %s] <= %s else to \"\n",
    "               \"node %s.\"\n",
    "              % (children_left[0],\n",
    "                 feature[0],\n",
    "                 threshold[0],\n",
    "                 children_right[0],\n",
    "                 ))\n",
    "\n"
   ]
  },
  {
   "cell_type": "code",
   "execution_count": 0,
   "metadata": {
    "colab": {},
    "colab_type": "code",
    "id": "0GCaEINsbmVW"
   },
   "outputs": [],
   "source": [
    "predictionRes = clf.predict(xTest)"
   ]
  },
  {
   "cell_type": "code",
   "execution_count": 13,
   "metadata": {
    "colab": {
     "base_uri": "https://localhost:8080/",
     "height": 52
    },
    "colab_type": "code",
    "id": "hPYyRn8ibmVl",
    "outputId": "e1a96746-1977-46ca-f63e-733dcb4b3063"
   },
   "outputs": [
    {
     "name": "stdout",
     "output_type": "stream",
     "text": [
      "Overall Accuracy\n",
      "81.63\n"
     ]
    }
   ],
   "source": [
    "accuracy = 100.0 * metrics.accuracy_score(yTest, predictionRes)\n",
    "print(\"Overall Accuracy\")\n",
    "print(accuracy)"
   ]
  },
  {
   "cell_type": "code",
   "execution_count": 14,
   "metadata": {
    "colab": {
     "base_uri": "https://localhost:8080/",
     "height": 297
    },
    "colab_type": "code",
    "id": "dlA_y3dMbmVe",
    "outputId": "1f204a08-fe35-48ce-df11-62d894e9d5ab"
   },
   "outputs": [
    {
     "name": "stdout",
     "output_type": "stream",
     "text": [
      "EVALUATION ON TESTING DATA\n",
      "             precision    recall  f1-score   support\n",
      "\n",
      "          0     0.8711    0.9449    0.9065       980\n",
      "          1     0.8962    0.9507    0.9226      1135\n",
      "          2     0.7769    0.7762    0.7765      1032\n",
      "          3     0.7284    0.7861    0.7562      1010\n",
      "          4     0.8107    0.8024    0.8066       982\n",
      "          5     0.7260    0.7130    0.7195       892\n",
      "          6     0.8379    0.8257    0.8318       958\n",
      "          7     0.8615    0.8774    0.8694      1028\n",
      "          8     0.8081    0.7002    0.7503       974\n",
      "          9     0.8224    0.7572    0.7884      1009\n",
      "\n",
      "avg / total     0.8157    0.8163    0.8151     10000\n",
      "\n"
     ]
    }
   ],
   "source": [
    "report = metrics.classification_report(yTest.tolist(), predictionRes, digits=4)\n",
    "# Evaluate performance of model for each of the digits\n",
    "print(\"EVALUATION ON TESTING DATA\")\n",
    "print(report)"
   ]
  },
  {
   "cell_type": "code",
   "execution_count": 15,
   "metadata": {
    "colab": {
     "base_uri": "https://localhost:8080/",
     "height": 368
    },
    "colab_type": "code",
    "id": "ilmq-kG0bmVo",
    "outputId": "daab70fb-019a-408e-8d4d-f607722d594a"
   },
   "outputs": [
    {
     "data": {
      "image/png": "[encoded data removed]",
      "text/plain": [
       "<matplotlib.figure.Figure at 0x7f2cea623048>"
      ]
     },
     "metadata": {
      "tags": []
     },
     "output_type": "display_data"
    }
   ],
   "source": [
    "# Pixel importances on 28*28 image\n",
    "importances = clf.feature_importances_\n",
    "importances = importances.reshape((28, 28))\n",
    "\n",
    "# Plot pixel importances\n",
    "plt.matshow(importances, cmap=plt.cm.hot)\n",
    "plt.title(\"Pixel importances for decision tree\")\n",
    "plt.show()"
   ]
  },
  {
   "cell_type": "markdown",
   "metadata": {
    "colab_type": "text",
    "id": "QOQ3SuIy6qPh"
   },
   "source": [
    "### Rescaling Data for additional classification"
   ]
  },
  {
   "cell_type": "markdown",
   "metadata": {
    "colab_type": "text",
    "id": "C3zkQaXlezut"
   },
   "source": [
    "## Q1\n",
    "\n",
    "a) Used 'gini' as criterion. Used min_samples_split and min_samples_leaf that gave highest accuracy on validation data. Other parameters are default. \n",
    "\n",
    "\n",
    "b) Pixel 378 in range of 784 is used in the root. As it has the highest value in pixel importance map, it should be strong determining factor.\n",
    "\n",
    "\n",
    "c)\n"
   ]
  },
  {
   "cell_type": "markdown",
   "metadata": {
    "colab_type": "text",
    "id": "d-G15B8ibmVu"
   },
   "source": [
    "###  K-Nearest Neighbor Classification"
   ]
  },
  {
   "cell_type": "markdown",
   "metadata": {
    "colab_type": "text",
    "id": "XAhVARNkbmVv"
   },
   "source": [
    "#### Initialize the values of k for our k-NN classifier along with the list of accuracies for each value of k"
   ]
  },
  {
   "cell_type": "code",
   "execution_count": 16,
   "metadata": {
    "colab": {
     "base_uri": "https://localhost:8080/",
     "height": 104
    },
    "colab_type": "code",
    "id": "naFjf6tvbmVv",
    "outputId": "7aaa813a-99e1-4836-9391-7872c8a95c9e"
   },
   "outputs": [
    {
     "name": "stdout",
     "output_type": "stream",
     "text": [
      "k=1, accuracy=95.78%\n",
      "k=3, accuracy=95.38%\n",
      "k=5, accuracy=95.20%\n",
      "k=7, accuracy=95.02%\n",
      "k=9, accuracy=95.02%\n"
     ]
    }
   ],
   "source": [
    "kValues = range(1, 11, 2)\n",
    "\n",
    "accuracyKvalues = []\n",
    "\n",
    "for k in kValues:\n",
    "    # train the classifier with the current value of `k`\n",
    "    model = KNeighborsClassifier(n_neighbors=k)\n",
    "    model.fit(trainData, trainLabels)\n",
    "\n",
    "    # evaluate the model and print the accuracies list\n",
    "    score = model.score(valData, valLabels)\n",
    "    print(\"k=%d, accuracy=%.2f%%\" % (k, score * 100))\n",
    "    accuracyKvalues.append(score)"
   ]
  },
  {
   "cell_type": "code",
   "execution_count": 17,
   "metadata": {
    "colab": {
     "base_uri": "https://localhost:8080/",
     "height": 34
    },
    "colab_type": "code",
    "id": "lx0gi1N5bmVz",
    "outputId": "36ea313f-4c71-4ddd-fd54-560d6c136955"
   },
   "outputs": [
    {
     "name": "stdout",
     "output_type": "stream",
     "text": [
      "k=1 achieved highest accuracy of 95.78% on validation data\n"
     ]
    }
   ],
   "source": [
    "# largest accuracy\n",
    "# np.argmax returns the indices of the maximum values along an axis\n",
    "i = np.argmax(accuracyKvalues)\n",
    "print(\"k=%d achieved highest accuracy of %.2f%% on validation data\" % (kValues[i], accuracyKvalues[i] * 100))\n"
   ]
  },
  {
   "cell_type": "markdown",
   "metadata": {
    "colab_type": "text",
    "id": "13DV6bDObmV1"
   },
   "source": [
    "#### Trying it on testing data with k value that gave highest accuracy"
   ]
  },
  {
   "cell_type": "code",
   "execution_count": 18,
   "metadata": {
    "colab": {
     "base_uri": "https://localhost:8080/",
     "height": 52
    },
    "colab_type": "code",
    "id": "-YwEYJ9yA76X",
    "outputId": "4be42b64-8fea-4ecc-dd22-61ae430d7655"
   },
   "outputs": [
    {
     "name": "stdout",
     "output_type": "stream",
     "text": [
      "Overall Accuracy\n",
      "95.07\n"
     ]
    }
   ],
   "source": [
    "# Now that I know the best value of k, re-train the classifier\n",
    "model = KNeighborsClassifier(n_neighbors=kValues[i])\n",
    "model.fit(trainData, trainLabels)\n",
    "\n",
    "# Predict labels for the test set\n",
    "predictions = model.predict(xTest)\n",
    "\n",
    "# Overall accuracy on testing data\n",
    "accuracy = 100.0 * metrics.accuracy_score(yTest, predictions)\n",
    "print(\"Overall Accuracy\")\n",
    "print(accuracy)"
   ]
  },
  {
   "cell_type": "code",
   "execution_count": 19,
   "metadata": {
    "colab": {
     "base_uri": "https://localhost:8080/",
     "height": 297
    },
    "colab_type": "code",
    "id": "Lhg30Tu9bmV2",
    "outputId": "6c37595d-9e5e-4151-c4c7-df98e22a6d8b"
   },
   "outputs": [
    {
     "name": "stdout",
     "output_type": "stream",
     "text": [
      "EVALUATION ON TESTING DATA\n",
      "             precision    recall  f1-score   support\n",
      "\n",
      "          0       0.96      0.99      0.97       980\n",
      "          1       0.95      0.99      0.97      1135\n",
      "          2       0.98      0.93      0.96      1032\n",
      "          3       0.93      0.94      0.94      1010\n",
      "          4       0.96      0.94      0.95       982\n",
      "          5       0.94      0.94      0.94       892\n",
      "          6       0.97      0.98      0.97       958\n",
      "          7       0.94      0.95      0.95      1028\n",
      "          8       0.97      0.89      0.93       974\n",
      "          9       0.91      0.94      0.93      1009\n",
      "\n",
      "avg / total       0.95      0.95      0.95     10000\n",
      "\n"
     ]
    }
   ],
   "source": [
    "# Evaluate performance of model for each of the digits\n",
    "print(\"EVALUATION ON TESTING DATA\")\n",
    "print(classification_report(yTest, predictions))"
   ]
  },
  {
   "cell_type": "markdown",
   "metadata": {
    "colab_type": "text",
    "id": "m5bcXmhSfLfK"
   },
   "source": [
    "## Q2\n",
    "\n",
    "a) Highest accuracy is achived with k = 1 which is %95.8 on validation data.\n",
    "\n",
    "\n",
    "b) Traversed through different k values to find best performence.\n",
    "\n"
   ]
  },
  {
   "cell_type": "markdown",
   "metadata": {
    "colab_type": "text",
    "id": "uqvBaobFfWrM"
   },
   "source": [
    "### Naïve Bayes classifier using the univariate Gaussian distribution"
   ]
  },
  {
   "cell_type": "code",
   "execution_count": 20,
   "metadata": {
    "colab": {
     "base_uri": "https://localhost:8080/",
     "height": 34
    },
    "colab_type": "code",
    "id": "MdQyCrthfggR",
    "outputId": "8f9dc2bd-0616-43c1-a111-3868b75293f8"
   },
   "outputs": [
    {
     "data": {
      "text/plain": [
       "GaussianNB(priors=None)"
      ]
     },
     "execution_count": 20,
     "metadata": {
      "tags": []
     },
     "output_type": "execute_result"
    }
   ],
   "source": [
    "nb = GaussianNB()\n",
    "nb.fit(trainData, trainLabels)"
   ]
  },
  {
   "cell_type": "code",
   "execution_count": 21,
   "metadata": {
    "colab": {
     "base_uri": "https://localhost:8080/",
     "height": 52
    },
    "colab_type": "code",
    "id": "WsNQB5zufgoa",
    "outputId": "7535fed5-c0c9-4615-aa2e-f4d0d95ab3de"
   },
   "outputs": [
    {
     "name": "stdout",
     "output_type": "stream",
     "text": [
      "Overall Accuracy\n",
      "56.779999999999994\n"
     ]
    }
   ],
   "source": [
    "# Predict labels for the test set\n",
    "predictions = nb.predict(xTest)\n",
    "\n",
    "# Overall accuracy on testing data\n",
    "accuracy = 100.0 * metrics.accuracy_score(yTest, predictions)\n",
    "print(\"Overall Accuracy\")\n",
    "print(accuracy)"
   ]
  },
  {
   "cell_type": "code",
   "execution_count": 22,
   "metadata": {
    "colab": {
     "base_uri": "https://localhost:8080/",
     "height": 297
    },
    "colab_type": "code",
    "id": "8KUiH1I9fgvf",
    "outputId": "62ae29b3-6300-4737-aaf4-62bccdbd9764"
   },
   "outputs": [
    {
     "name": "stdout",
     "output_type": "stream",
     "text": [
      "EVALUATION ON TESTING DATA\n",
      "             precision    recall  f1-score   support\n",
      "\n",
      "          0       0.64      0.93      0.76       980\n",
      "          1       0.70      0.96      0.81      1135\n",
      "          2       0.91      0.30      0.46      1032\n",
      "          3       0.72      0.34      0.46      1010\n",
      "          4       0.84      0.20      0.33       982\n",
      "          5       0.65      0.12      0.20       892\n",
      "          6       0.65      0.91      0.76       958\n",
      "          7       0.88      0.35      0.50      1028\n",
      "          8       0.34      0.56      0.42       974\n",
      "          9       0.39      0.93      0.55      1009\n",
      "\n",
      "avg / total       0.67      0.57      0.53     10000\n",
      "\n"
     ]
    }
   ],
   "source": [
    "# Evaluate performance of model for each of the digits\n",
    "print(\"EVALUATION ON TESTING DATA\")\n",
    "print(classification_report(yTest, predictions))"
   ]
  },
  {
   "cell_type": "code",
   "execution_count": 23,
   "metadata": {
    "colab": {
     "base_uri": "https://localhost:8080/",
     "height": 192
    },
    "colab_type": "code",
    "id": "Mj9nhJ_6hjOm",
    "outputId": "8b145209-da6c-4e2b-b951-64ce4f14f7ba"
   },
   "outputs": [
    {
     "name": "stdout",
     "output_type": "stream",
     "text": [
      "[[ 910    1  123  134   42  155   16    2   26    9]\n",
      " [   1 1095   53   90   24   48   34   25  164   22]\n",
      " [   5    2  314    6    4    2    6    1    3    3]\n",
      " [   4    3   71  341    4   20    1   15    7    6]\n",
      " [   3    0    7    4  200    5    1    6    7    6]\n",
      " [   9    2    4    4    7  108   10    1   19    1]\n",
      " [  26    8  242   60   82   40  872    4   16    1]\n",
      " [   1    0    6   10    9    4    0  355    5   15]\n",
      " [  12   19  193  264  126  416   17   22  545    8]\n",
      " [   9    5   19   97  484   94    1  597  182  938]]\n"
     ]
    }
   ],
   "source": [
    "# Confusion Matrix\n",
    "cm=metrics.confusion_matrix(predictions,yTest)\n",
    "print(cm)"
   ]
  },
  {
   "cell_type": "markdown",
   "metadata": {
    "colab_type": "text",
    "id": "1XsmdmoYfhQC"
   },
   "source": [
    "## Q3\n",
    "\n",
    "a) 56% accuracy on test data.\n",
    "\n",
    "\n",
    "b)"
   ]
  },
  {
   "cell_type": "markdown",
   "metadata": {
    "colab_type": "text",
    "id": "xHmmW7acg1VD"
   },
   "source": [
    "### Gaussian Bayes classifier using the multivariate Gaussian distribution\n"
   ]
  },
  {
   "cell_type": "code",
   "execution_count": 0,
   "metadata": {
    "colab": {},
    "colab_type": "code",
    "id": "ktyzrYtA6QYx"
   },
   "outputs": [],
   "source": [
    "from scipy.stats import multivariate_normal\n",
    "class BayesClassifier:\n",
    "    \n",
    "    mu = None\n",
    "    cov = None\n",
    "    n_classes = None\n",
    "    \n",
    "    def __init__(self):\n",
    "        a = None\n",
    "    \n",
    "    def pred(self,x):\n",
    "        prob_vect = np.zeros(self.n_classes)\n",
    "        \n",
    "        for i in range(self.n_classes):\n",
    "            \n",
    "            \n",
    "            mnormal = multivariate_normal(mean=bc.mu[i], cov=bc.cov[i])\n",
    "            \n",
    "            # We use uniform priors\n",
    "            prior = 1./self.n_classes\n",
    "            \n",
    "            prob_vect[i] = prior*mnormal.pdf(x)\n",
    "            sumatory = 0.\n",
    "            for j in range(self.n_classes):\n",
    "                mnormal = multivariate_normal(mean=bc.mu[j], cov=bc.cov[j])\n",
    "                sumatory += prior*mnormal.pdf(x)\n",
    "            prob_vect[i] = prob_vect[i]/sumatory\n",
    "        return prob_vect\n",
    "        \n",
    "    def fit(self, X,y):\n",
    "        self.mu = []\n",
    "        self.cov = []\n",
    "        \n",
    "        self.n_classes = np.max(y)+1\n",
    "        \n",
    "        for i in range(self.n_classes):\n",
    "            Xc = X[y==i]\n",
    "            \n",
    "            mu_c = np.mean(Xc, axis=0)\n",
    "            self.mu.append(mu_c)\n",
    "            \n",
    "            cov_c = np.zeros((X.shape[1], X.shape[1]))\n",
    "            for j in range( Xc.shape[0]):\n",
    "                a = Xc[j].reshape((X.shape[1],1))\n",
    "                b = Xc[j].reshape((1,X.shape[1]))\n",
    "                cov_ci = np.multiply(a, b)\n",
    "                cov_c = cov_c+cov_ci\n",
    "            cov_c = cov_c/float(X.shape[0])\n",
    "            self.cov.append(cov_c)\n",
    "        self.mu = np.asarray(self.mu)\n",
    "        self.cov = np.asarray(self.cov)"
   ]
  },
  {
   "cell_type": "code",
   "execution_count": 0,
   "metadata": {
    "colab": {},
    "colab_type": "code",
    "id": "cZ4iCW5yfm4F"
   },
   "outputs": [],
   "source": [
    "# Fit the classifier on the two-feature dataset\n",
    "\n",
    "bc = BayesClassifier()\n",
    "\n",
    "bc.fit(trainData, trainLabels)"
   ]
  },
  {
   "cell_type": "markdown",
   "metadata": {
    "colab_type": "text",
    "id": "ULMQm4mZfnZb"
   },
   "source": [
    "## Q4\n",
    "\n",
    "a)\n",
    "\n",
    "\n",
    "b)"
   ]
  },
  {
   "cell_type": "markdown",
   "metadata": {
    "colab_type": "text",
    "id": "bGWQWKJ7frNp"
   },
   "source": [
    "## Q5 - Report\n",
    "\n",
    "I have evaluated the performance of decision tree, k-NN and Bayes classifiers (Gaussian Naïve Bayes and\n",
    "Gaussian Bayes with general and shared covariance matrices) on the dataset MNIST. \n",
    " \n",
    "I used first 15K of the data as training and validation to have shorter runtimes when trainining the classifier.\n",
    "\n",
    "We have obtained the best results with the Knn classifier , giving an accuracy of 95% on test data.\n",
    "\n"
   ]
  },
  {
   "cell_type": "code",
   "execution_count": 0,
   "metadata": {
    "colab": {},
    "colab_type": "code",
    "id": "7MmYx60C-jpX"
   },
   "outputs": [],
   "source": []
  }
 ],
 "metadata": {
  "colab": {
   "name": "digit-classifier.ipynb",
   "provenance": [],
   "version": "0.3.2"
  },
  "kernelspec": {
   "display_name": "Python 3",
   "language": "python",
   "name": "python3"
  },
  "language_info": {
   "codemirror_mode": {
    "name": "ipython",
    "version": 3
   },
   "file_extension": ".py",
   "mimetype": "text/x-python",
   "name": "python",
   "nbconvert_exporter": "python",
   "pygments_lexer": "ipython3",
   "version": "3.6.6"
  }
 },
 "nbformat": 4,
 "nbformat_minor": 1
}
