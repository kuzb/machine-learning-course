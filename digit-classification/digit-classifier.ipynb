{
 "cells": [
  {
   "cell_type": "markdown",
   "metadata": {},
   "source": [
    "## Dataset\n",
    "**MNIST data** is a collection of 28x28 grayscale images; hence each pixel is a gray-level from 0-255.\n",
    "## Task\n",
    "You will consider digit classification on MNIST data, as a simple image understanding/machine learnng\n",
    "problem that is widely studied. The aim is to reverse the learning so that you are first interested in the problem\n",
    "and thus will be more motivated to better learn about the possible approaches to the problem."
   ]
  },
  {
   "cell_type": "markdown",
   "metadata": {},
   "source": [
    "### Importing Data from local"
   ]
  },
  {
   "cell_type": "code",
   "execution_count": 1,
   "metadata": {},
   "outputs": [],
   "source": [
    "from mlxtend.data import loadlocal_mnist\n",
    "import numpy as np\n",
    "import matplotlib.pyplot as plt\n",
    "from sklearn import tree\n",
    "from sklearn import metrics\n",
    "from sklearn.utils import shuffle\n",
    "import math\n",
    "from sklearn.model_selection import train_test_split\n",
    "from sklearn.neighbors import KNeighborsClassifier\n",
    "from sklearn.metrics import classification_report\n",
    "\n",
    "#Imporating the Mnist Data that is downloaded from orginal source\n",
    "# i.e. http://yann.lecun.com/exdb/mnist/\n",
    "\n",
    "# trainingImages, and trainingLabels\n",
    "xTrain, yTrain = loadlocal_mnist(\n",
    "        images_path='train-images-idx3-ubyte', \n",
    "        labels_path='train-labels-idx1-ubyte')\n",
    "\n",
    "# testImages, and testLabels \n",
    "xTest, yTest = loadlocal_mnist(\n",
    "        images_path='t10k-images-idx3-ubyte', \n",
    "        labels_path='t10k-labels-idx1-ubyte')\n"
   ]
  },
  {
   "cell_type": "code",
   "execution_count": 2,
   "metadata": {
    "scrolled": true
   },
   "outputs": [
    {
     "name": "stdout",
     "output_type": "stream",
     "text": [
      "xTrain initial shape:  (60000, 784)\n",
      "yTrain initial shape:  (60000,)\n",
      "xTest initial shape:   (10000, 784)\n",
      "yTest initial shape:   (10000,)\n"
     ]
    }
   ],
   "source": [
    "print(\"xTrain initial shape: \", xTrain.shape)\n",
    "print(\"yTrain initial shape: \", yTrain.shape)\n",
    "print(\"xTest initial shape:  \", xTest.shape)\n",
    "print(\"yTest initial shape:  \", yTest.shape)"
   ]
  },
  {
   "cell_type": "markdown",
   "metadata": {},
   "source": [
    "### Checking few examples from train data"
   ]
  },
  {
   "cell_type": "code",
   "execution_count": 3,
   "metadata": {
    "scrolled": true
   },
   "outputs": [
    {
     "data": {
      "image/png": "[encoded data removed]",
      "text/plain": [
       "<Figure size 432x288 with 9 Axes>"
      ]
     },
     "metadata": {
      "needs_background": "light"
     },
     "output_type": "display_data"
    }
   ],
   "source": [
    "# inorder to view xTrain\n",
    "x_train = xTrain.reshape(60000, 28, 28)\n",
    "for i in range(9):\n",
    "    plt.subplot(3,3,i+1)\n",
    "    plt.imshow(xTrain[i].reshape([28,28]), cmap='gray', interpolation='none')\n",
    "    plt.title(\"Num: {}\".format(yTrain[i]))"
   ]
  },
  {
   "cell_type": "markdown",
   "metadata": {},
   "source": [
    "### Formating Training Data"
   ]
  },
  {
   "cell_type": "code",
   "execution_count": 4,
   "metadata": {},
   "outputs": [],
   "source": [
    "# take 15% of the training data and use that for validation\n",
    "# Taking first 15K as the to lower the calculation time\n",
    "(trainData, valData, trainLabels, valLabels) = train_test_split(xTrain[:15000], yTrain[:15000], test_size=0.15, random_state=84)"
   ]
  },
  {
   "cell_type": "markdown",
   "metadata": {},
   "source": [
    "### Creating Decision Tree Classifier"
   ]
  },
  {
   "cell_type": "code",
   "execution_count": 5,
   "metadata": {},
   "outputs": [],
   "source": [
    "clf = tree.DecisionTreeClassifier(criterion=\"gini\", max_depth=128, max_features=784)\n",
    "clf = clf.fit(xTrain[:15000], yTrain[:15000])"
   ]
  },
  {
   "cell_type": "code",
   "execution_count": 6,
   "metadata": {},
   "outputs": [],
   "source": [
    "predictionRes = clf.predict(xTest)"
   ]
  },
  {
   "cell_type": "code",
   "execution_count": 7,
   "metadata": {},
   "outputs": [],
   "source": [
    "report = metrics.classification_report(yTest.tolist(), predictionRes, digits=4)"
   ]
  },
  {
   "cell_type": "code",
   "execution_count": 8,
   "metadata": {},
   "outputs": [
    {
     "name": "stdout",
     "output_type": "stream",
     "text": [
      "              precision    recall  f1-score   support\n",
      "\n",
      "           0     0.8792    0.9133    0.8959       980\n",
      "           1     0.9255    0.9419    0.9336      1135\n",
      "           2     0.8160    0.7994    0.8076      1032\n",
      "           3     0.7948    0.7901    0.7925      1010\n",
      "           4     0.7976    0.8065    0.8020       982\n",
      "           5     0.7838    0.7679    0.7758       892\n",
      "           6     0.8546    0.8528    0.8537       958\n",
      "           7     0.8790    0.8765    0.8777      1028\n",
      "           8     0.7232    0.7053    0.7141       974\n",
      "           9     0.8057    0.8097    0.8077      1009\n",
      "\n",
      "   micro avg     0.8286    0.8286    0.8286     10000\n",
      "   macro avg     0.8259    0.8263    0.8261     10000\n",
      "weighted avg     0.8279    0.8286    0.8282     10000\n",
      "\n"
     ]
    }
   ],
   "source": [
    "print(report)"
   ]
  },
  {
   "cell_type": "code",
   "execution_count": 9,
   "metadata": {},
   "outputs": [],
   "source": [
    "accuracy = 100.0 * metrics.accuracy_score(yTest, predictionRes)"
   ]
  },
  {
   "cell_type": "code",
   "execution_count": 10,
   "metadata": {},
   "outputs": [
    {
     "name": "stdout",
     "output_type": "stream",
     "text": [
      "82.86\n"
     ]
    }
   ],
   "source": [
    "print(accuracy)"
   ]
  },
  {
   "cell_type": "code",
   "execution_count": 11,
   "metadata": {},
   "outputs": [
    {
     "data": {
      "image/png": "[encoded data removed]",
      "text/plain": [
       "<Figure size 288x288 with 1 Axes>"
      ]
     },
     "metadata": {
      "needs_background": "light"
     },
     "output_type": "display_data"
    }
   ],
   "source": [
    "# Pixel importances on 28*28 image\n",
    "importances = clf.feature_importances_\n",
    "importances = importances.reshape((28, 28))\n",
    "\n",
    "# Plot pixel importances\n",
    "plt.matshow(importances, cmap=plt.cm.hot)\n",
    "plt.title(\"Pixel importances for decision tree\")\n",
    "plt.show()"
   ]
  },
  {
   "cell_type": "markdown",
   "metadata": {},
   "source": [
    "###  K-Nearest Neighbor Classification"
   ]
  },
  {
   "cell_type": "markdown",
   "metadata": {},
   "source": [
    "#### Initialize the values of k for our k-NN classifier along with the list of accuracies for each value of k"
   ]
  },
  {
   "cell_type": "code",
   "execution_count": 12,
   "metadata": {},
   "outputs": [
    {
     "name": "stdout",
     "output_type": "stream",
     "text": [
      "k=1, accuracy=95.78%\n",
      "k=3, accuracy=95.38%\n",
      "k=5, accuracy=95.20%\n",
      "k=7, accuracy=95.02%\n",
      "k=9, accuracy=95.02%\n",
      "k=11, accuracy=94.40%\n",
      "k=13, accuracy=94.13%\n",
      "k=15, accuracy=94.04%\n",
      "k=17, accuracy=94.04%\n"
     ]
    }
   ],
   "source": [
    "kValues = range(1, 19, 2)\n",
    "\n",
    "accuracyKvalues = []\n",
    "\n",
    "for k in kValues:\n",
    "    # train the classifier with the current value of `k`\n",
    "    model = KNeighborsClassifier(n_neighbors=k)\n",
    "    model.fit(trainData, trainLabels)\n",
    "\n",
    "    # evaluate the model and print the accuracies list\n",
    "    score = model.score(valData, valLabels)\n",
    "    print(\"k=%d, accuracy=%.2f%%\" % (k, score * 100))\n",
    "    accuracyKvalues.append(score)"
   ]
  },
  {
   "cell_type": "code",
   "execution_count": 13,
   "metadata": {},
   "outputs": [
    {
     "ename": "NameError",
     "evalue": "name 'kVals' is not defined",
     "output_type": "error",
     "traceback": [
      "\u001b[0;31m---------------------------------------------------------------------------\u001b[0m",
      "\u001b[0;31mNameError\u001b[0m                                 Traceback (most recent call last)",
      "\u001b[0;32m<ipython-input-13-cc79e026deff>\u001b[0m in \u001b[0;36m<module>\u001b[0;34m()\u001b[0m\n\u001b[1;32m      2\u001b[0m \u001b[0;31m# np.argmax returns the indices of the maximum values along an axis\u001b[0m\u001b[0;34m\u001b[0m\u001b[0;34m\u001b[0m\u001b[0m\n\u001b[1;32m      3\u001b[0m \u001b[0mi\u001b[0m \u001b[0;34m=\u001b[0m \u001b[0mnp\u001b[0m\u001b[0;34m.\u001b[0m\u001b[0margmax\u001b[0m\u001b[0;34m(\u001b[0m\u001b[0maccuracyKvalues\u001b[0m\u001b[0;34m)\u001b[0m\u001b[0;34m\u001b[0m\u001b[0m\n\u001b[0;32m----> 4\u001b[0;31m print(\"k=%d achieved highest accuracy of %.2f%% on validation data\" % (kVals[i],\n\u001b[0m\u001b[1;32m      5\u001b[0m     accuracies[i] * 100))\n",
      "\u001b[0;31mNameError\u001b[0m: name 'kVals' is not defined"
     ]
    }
   ],
   "source": [
    "# largest accuracy\n",
    "# np.argmax returns the indices of the maximum values along an axis\n",
    "i = np.argmax(accuracyKvalues)\n",
    "print(\"k=%d achieved highest accuracy of %.2f%% on validation data\" % (accuracyKvalues[i],\n",
    "    accuracies[i] * 100))\n"
   ]
  },
  {
   "cell_type": "markdown",
   "metadata": {},
   "source": [
    "#### Trying it on testing data with k value that gave highest accuracy"
   ]
  },
  {
   "cell_type": "code",
   "execution_count": null,
   "metadata": {},
   "outputs": [],
   "source": [
    "# Now that I know the best value of k, re-train the classifier\n",
    "model = KNeighborsClassifier(n_neighbors=kValues[i])\n",
    "model.fit(trainData, trainLabels)\n",
    "\n",
    "# Predict labels for the test set\n",
    "predictions = model.predict(testData)\n",
    "\n",
    "# Evaluate performance of model for each of the digits\n",
    "print(\"EVALUATION ON TESTING DATA\")\n",
    "print(classification_report(testLabels, predictions))"
   ]
  },
  {
   "cell_type": "code",
   "execution_count": null,
   "metadata": {},
   "outputs": [],
   "source": []
  }
 ],
 "metadata": {
  "kernelspec": {
   "display_name": "Python 3",
   "language": "python",
   "name": "python3"
  },
  "language_info": {
   "codemirror_mode": {
    "name": "ipython",
    "version": 3
   },
   "file_extension": ".py",
   "mimetype": "text/x-python",
   "name": "python",
   "nbconvert_exporter": "python",
   "pygments_lexer": "ipython3",
   "version": "3.6.6"
  }
 },
 "nbformat": 4,
 "nbformat_minor": 2
}
